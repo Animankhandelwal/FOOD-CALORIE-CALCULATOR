{
  "nbformat": 4,
  "nbformat_minor": 0,
  "metadata": {
    "colab": {
      "provenance": []
    },
    "kernelspec": {
      "name": "python3",
      "display_name": "Python 3"
    },
    "language_info": {
      "name": "python"
    }
  },
  "cells": [
    {
      "cell_type": "code",
      "execution_count": 4,
      "metadata": {
        "id": "4yNQfhGwdmSq"
      },
      "outputs": [],
      "source": [
        "import cv2\n",
        "import numpy as np\n",
        "from tensorflow.keras.applications import ResNet50\n",
        "from tensorflow.keras.preprocessing import image\n",
        "from tensorflow.keras.applications.resnet50 import preprocess_input, decode_predictions\n",
        "from sklearn.decomposition import PCA\n",
        "from sklearn.feature_selection import SelectKBest, mutual_info_classif\n",
        "from sklearn.ensemble import RandomForestClassifier\n",
        "from sklearn.linear_model import LinearRegression\n",
        "from sklearn.metrics import accuracy_score\n",
        "from sklearn.model_selection import train_test_split\n",
        "from sklearn.pipeline import Pipeline"
      ]
    },
    {
      "cell_type": "code",
      "source": [
        "from PIL import Image, ImageEnhance"
      ],
      "metadata": {
        "id": "kjmYYGE3ghIm"
      },
      "execution_count": 5,
      "outputs": []
    },
    {
      "cell_type": "code",
      "source": [
        "image='pizza_1.jpg'"
      ],
      "metadata": {
        "id": "HFBLZ5JYtI2d"
      },
      "execution_count": 13,
      "outputs": []
    },
    {
      "cell_type": "code",
      "source": [
        "# first to preprocess the image to make it to matrix of integers\n",
        "def preprocess_image(img_path):\n",
        "  img=Image.open(img_path)\n",
        "  enhancer=ImageEnhance.Brightness(img)\n",
        "  brightened_img=enhancer.enhance(1.5)\n",
        "\n",
        "  #resize to 4% of the image\n",
        "  width, height=brightened_img.size\n",
        "  new_size=(int(width*0.04), int(height*0.04))\n",
        "  resized_img=brightened_img.resize(new_size)\n",
        "\n",
        "  return resized_img"
      ],
      "metadata": {
        "id": "ux37kNsQqqxD"
      },
      "execution_count": 7,
      "outputs": []
    },
    {
      "cell_type": "code",
      "source": [
        "# to extract RGB channels as features to analyse\n",
        "def extract_rgb(img):\n",
        "  np_img=np.array(img)\n",
        "  red_channel=np_img[:,:,0].flatten()\n",
        "  green_channel=np_img[:,:,1].flatten()\n",
        "  blue_channel=np_img[:,:,2].flatten()\n",
        "  # to make one feature vector\n",
        "  return np.concatenate([red_channel, green_channel, blue_channel])\n",
        ""
      ],
      "metadata": {
        "id": "72cgV8VnoSx3"
      },
      "execution_count": 8,
      "outputs": []
    },
    {
      "cell_type": "code",
      "source": [
        "# to try other methods like average of RGB and GRAYSCALE\n",
        "def grayscale_avg_rgb(img):\n",
        "  np_img=np.array(img)\n",
        "  gray_image_cvt=cv2.cvtColor(np_img, cv2.COLOR_BGR2GRAY)\n",
        "  avg_rgb=np.mean(np_img, axis=2).flatten()\n",
        "  return gray_image_cvt.flatten(), avg_rgb"
      ],
      "metadata": {
        "id": "ZX9eQtrGpQht"
      },
      "execution_count": 9,
      "outputs": []
    },
    {
      "cell_type": "code",
      "source": [
        "def main(img_path):\n",
        "  img=preprocess_image(img_path)\n",
        "  rgb_features=extract_rgb(img)\n",
        "  print(f\"RGB Features: {len(rgb_features)} features extracted\")\n",
        "  gray_features, avg_rgb_features=grayscale_avg_rgb(img)\n",
        "  print(f\"Grayscale Features: {len(gray_features)} features extracted\")\n",
        "  print(f\"Average RGB Features: {len(avg_rgb_features)} features extracted\")"
      ],
      "metadata": {
        "id": "LnjxrNn1qoBa"
      },
      "execution_count": 10,
      "outputs": []
    },
    {
      "cell_type": "code",
      "source": [
        "main(image)"
      ],
      "metadata": {
        "colab": {
          "base_uri": "https://localhost:8080/"
        },
        "id": "_R4qG8eEs1gW",
        "outputId": "13d67dfa-9400-4160-82c7-c8fcdf6b7b2b"
      },
      "execution_count": 15,
      "outputs": [
        {
          "output_type": "stream",
          "name": "stdout",
          "text": [
            "RGB Features: 7200 features extracted\n",
            "Grayscale Features: 2400 features extracted\n",
            "Average RGB Features: 2400 features extracted\n"
          ]
        }
      ]
    },
    {
      "cell_type": "code",
      "source": [
        "def split_data(X,y):\n",
        "  X_train, X_test, y_train, y_test=train_test_split(X,y, test_size=0.2, random_state=42)\n",
        "  return X_train, X_test, y_train, y_test"
      ],
      "metadata": {
        "id": "zN4D4QNArHT2"
      },
      "execution_count": 16,
      "outputs": []
    },
    {
      "cell_type": "code",
      "source": [
        "def feature_selection_infogain(X_train, y_train, num_features=3000):\n",
        "  selector=SelectKBest(mutual_info_classif, k=num_features)\n",
        "  X_train_selected=selector.fit_transform(X_train, y_train)\n",
        "  return X_train_selected, selector"
      ],
      "metadata": {
        "id": "Uet6FYXMsBte"
      },
      "execution_count": 17,
      "outputs": []
    },
    {
      "cell_type": "code",
      "source": [
        "def apply_pca(X_train_selected):\n",
        "  pca=PCA(n_components=0.95)\n",
        "  X_train_pca=pca.fit_transform(X_train_selected)\n",
        "  return X_train_pca, pca"
      ],
      "metadata": {
        "id": "FJNQJaxIY8Ub"
      },
      "execution_count": 18,
      "outputs": []
    },
    {
      "cell_type": "code",
      "source": [
        "#food size classification\n",
        "def food_size_classification(X_train_pca, y_train):\n",
        "  model=RandomForestClassifier()\n",
        "  model.fit(X_train_pca, y_train)\n",
        "  return model"
      ],
      "metadata": {
        "id": "eClRZEgnZu7j"
      },
      "execution_count": 20,
      "outputs": []
    },
    {
      "cell_type": "code",
      "source": [
        "#food type classification\n",
        "from sklearn\n",
        "def food_type_classification(X_train_pca, y_train):\n",
        "  model="
      ],
      "metadata": {
        "id": "Fy3HEZjsZ92B"
      },
      "execution_count": null,
      "outputs": []
    }
  ]
}